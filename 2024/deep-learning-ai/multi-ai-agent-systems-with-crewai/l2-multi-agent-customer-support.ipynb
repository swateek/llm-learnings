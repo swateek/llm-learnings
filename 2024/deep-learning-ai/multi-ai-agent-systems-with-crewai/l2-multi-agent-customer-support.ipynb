{
 "cells": [
  {
   "cell_type": "code",
   "execution_count": null,
   "metadata": {},
   "outputs": [],
   "source": [
    "import warnings\n",
    "warnings.filterwarnings('ignore')\n",
    "\n",
    "import os\n",
    "import configparser\n",
    "from IPython.display import Markdown\n",
    "\n",
    "from crewai import Agent, Task, Crew"
   ]
  },
  {
   "cell_type": "markdown",
   "metadata": {},
   "source": [
    "### Read Configurations"
   ]
  },
  {
   "cell_type": "code",
   "execution_count": null,
   "metadata": {},
   "outputs": [],
   "source": [
    "CONFIG_FILENAME=\".config.ini\"\n",
    "\n",
    "config = configparser.ConfigParser()\n",
    "config.read(CONFIG_FILENAME)\n",
    "\n",
    "def get_value_by_section_and_key(section, key):\n",
    "        \"\"\"get_value_by_section_and_key\"\"\"\n",
    "        return config.get(section, key)\n",
    "\n",
    "def get_all_details_of_section(section) -> dict:\n",
    "    \"\"\"get_all_details_of_section\"\"\"\n",
    "    return dict(config.items(section))\n",
    "\n",
    "\n",
    "default_cfgs = get_all_details_of_section(\"DEFAULT\")"
   ]
  },
  {
   "cell_type": "code",
   "execution_count": null,
   "metadata": {},
   "outputs": [],
   "source": [
    "\n",
    "openai_api_key = default_cfgs[\"openai_api_key\"]\n",
    "os.environ[\"OPENAI_MODEL_NAME\"] = 'gpt-3.5-turbo'\n",
    "os.environ[\"OPENAI_API_KEY\"] = openai_api_key"
   ]
  },
  {
   "cell_type": "markdown",
   "metadata": {},
   "source": [
    "### Role Playing, Focus and Cooperation"
   ]
  },
  {
   "cell_type": "code",
   "execution_count": null,
   "metadata": {},
   "outputs": [],
   "source": [
    "support_agent = Agent(\n",
    "    role=\"Senior Support Representative\",\n",
    "\tgoal=\"Be the most friendly and helpful \"\n",
    "        \"support representative in your team\",\n",
    "\tbackstory=(\n",
    "\t\t\"You work at crewAI (https://crewai.com) and \"\n",
    "        \" are now working on providing \"\n",
    "\t\t\"support to {customer}, a super important customer \"\n",
    "        \" for your company.\"\n",
    "\t\t\"You need to make sure that you provide the best support!\"\n",
    "\t\t\"Make sure to provide full complete answers, \"\n",
    "        \" and make no assumptions.\"\n",
    "\t),\n",
    "\tallow_delegation=False,\n",
    "\tverbose=True\n",
    ")"
   ]
  },
  {
   "cell_type": "code",
   "execution_count": null,
   "metadata": {},
   "outputs": [],
   "source": [
    "support_quality_assurance_agent = Agent(\n",
    "\trole=\"Support Quality Assurance Specialist\",\n",
    "\tgoal=\"Get recognition for providing the \"\n",
    "    \"best support quality assurance in your team\",\n",
    "\tbackstory=(\n",
    "\t\t\"You work at crewAI (https://crewai.com) and \"\n",
    "        \"are now working with your team \"\n",
    "\t\t\"on a request from {customer} ensuring that \"\n",
    "        \"the support representative is \"\n",
    "\t\t\"providing the best support possible.\\n\"\n",
    "\t\t\"You need to make sure that the support representative \"\n",
    "        \"is providing full\"\n",
    "\t\t\"complete answers, and make no assumptions.\"\n",
    "\t),\n",
    "\tverbose=True\n",
    ")"
   ]
  },
  {
   "cell_type": "markdown",
   "metadata": {},
   "source": [
    "### Get Tools"
   ]
  },
  {
   "cell_type": "code",
   "execution_count": null,
   "metadata": {},
   "outputs": [],
   "source": [
    "from crewai_tools import SerperDevTool, \\\n",
    "                         ScrapeWebsiteTool, \\\n",
    "                         WebsiteSearchTool"
   ]
  },
  {
   "cell_type": "code",
   "execution_count": null,
   "metadata": {},
   "outputs": [],
   "source": [
    "docs_scrape_tool = ScrapeWebsiteTool(\n",
    "    website_url=\"https://docs.crewai.com/how-to/Creating-a-Crew-and-kick-it-off/\"\n",
    ")"
   ]
  },
  {
   "cell_type": "markdown",
   "metadata": {},
   "source": [
    "### Create Tasks"
   ]
  },
  {
   "cell_type": "code",
   "execution_count": null,
   "metadata": {},
   "outputs": [],
   "source": [
    "inquiry_resolution = Task(\n",
    "    description=(\n",
    "        \"{customer} just reached out with a super important ask:\\n\"\n",
    "\t    \"{inquiry}\\n\\n\"\n",
    "        \"{person} from {customer} is the one that reached out. \"\n",
    "\t\t\"Make sure to use everything you know \"\n",
    "        \"to provide the best support possible.\"\n",
    "\t\t\"You must strive to provide a complete \"\n",
    "        \"and accurate response to the customer's inquiry.\"\n",
    "    ),\n",
    "    expected_output=(\n",
    "\t    \"A detailed, informative response to the \"\n",
    "        \"customer's inquiry that addresses \"\n",
    "        \"all aspects of their question.\\n\"\n",
    "        \"The response should include references \"\n",
    "        \"to everything you used to find the answer, \"\n",
    "        \"including external data or solutions. \"\n",
    "        \"Ensure the answer is complete, \"\n",
    "\t\t\"leaving no questions unanswered, and maintain a helpful and friendly \"\n",
    "\t\t\"tone throughout.\"\n",
    "    ),\n",
    "\ttools=[docs_scrape_tool],\n",
    "    agent=support_agent,\n",
    ")"
   ]
  },
  {
   "cell_type": "code",
   "execution_count": null,
   "metadata": {},
   "outputs": [],
   "source": [
    "quality_assurance_review = Task(\n",
    "    description=(\n",
    "        \"Review the response drafted by the Senior Support Representative for {customer}'s inquiry. \"\n",
    "        \"Ensure that the answer is comprehensive, accurate, and adheres to the \"\n",
    "\t\t\"high-quality standards expected for customer support.\\n\"\n",
    "        \"Verify that all parts of the customer's inquiry \"\n",
    "        \"have been addressed \"\n",
    "\t\t\"thoroughly, with a helpful and friendly tone.\\n\"\n",
    "        \"Check for references and sources used to \"\n",
    "        \" find the information, \"\n",
    "\t\t\"ensuring the response is well-supported and \"\n",
    "        \"leaves no questions unanswered.\"\n",
    "    ),\n",
    "    expected_output=(\n",
    "        \"A final, detailed, and informative response \"\n",
    "        \"ready to be sent to the customer.\\n\"\n",
    "        \"This response should fully address the \"\n",
    "        \"customer's inquiry, incorporating all \"\n",
    "\t\t\"relevant feedback and improvements.\\n\"\n",
    "\t\t\"Don't be too formal, we are a chill and cool company \"\n",
    "\t    \"but maintain a professional and friendly tone throughout.\"\n",
    "    ),\n",
    "    agent=support_quality_assurance_agent,\n",
    ")"
   ]
  },
  {
   "cell_type": "code",
   "execution_count": null,
   "metadata": {},
   "outputs": [],
   "source": [
    "crew = Crew(\n",
    "  agents=[support_agent, support_quality_assurance_agent],\n",
    "  tasks=[inquiry_resolution, quality_assurance_review],\n",
    "  verbose=True,\n",
    "  memory=True\n",
    ")"
   ]
  },
  {
   "cell_type": "markdown",
   "metadata": {},
   "source": [
    "### Running the Crew"
   ]
  },
  {
   "cell_type": "code",
   "execution_count": null,
   "metadata": {},
   "outputs": [],
   "source": [
    "inputs = {\n",
    "    \"customer\": \"DeepLearningAI\",\n",
    "    \"person\": \"Andrew Ng\",\n",
    "    \"inquiry\": \"I need help with setting up a Crew \"\n",
    "               \"and kicking it off, specifically \"\n",
    "               \"how can I add memory to my crew? \"\n",
    "               \"Can you provide guidance?\"\n",
    "}\n",
    "result = crew.kickoff(inputs=inputs)"
   ]
  },
  {
   "cell_type": "code",
   "execution_count": null,
   "metadata": {},
   "outputs": [],
   "source": [
    "Markdown(str(result))\n",
    "# print(result)"
   ]
  }
 ],
 "metadata": {
  "kernelspec": {
   "display_name": ".venv",
   "language": "python",
   "name": "python3"
  },
  "language_info": {
   "codemirror_mode": {
    "name": "ipython",
    "version": 3
   },
   "file_extension": ".py",
   "mimetype": "text/x-python",
   "name": "python",
   "nbconvert_exporter": "python",
   "pygments_lexer": "ipython3",
   "version": "3.12.8"
  }
 },
 "nbformat": 4,
 "nbformat_minor": 2
}
