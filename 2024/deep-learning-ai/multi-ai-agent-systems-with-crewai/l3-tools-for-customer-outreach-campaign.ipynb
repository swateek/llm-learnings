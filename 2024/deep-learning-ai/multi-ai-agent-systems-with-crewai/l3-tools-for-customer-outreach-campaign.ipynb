{
 "cells": [
  {
   "cell_type": "code",
   "execution_count": null,
   "metadata": {},
   "outputs": [],
   "source": [
    "import warnings\n",
    "warnings.filterwarnings('ignore')\n",
    "\n",
    "import os\n",
    "import configparser\n",
    "from IPython.display import Markdown\n",
    "\n",
    "from crewai import Agent, Task, Crew"
   ]
  },
  {
   "cell_type": "markdown",
   "metadata": {},
   "source": [
    "### Read Configurations"
   ]
  },
  {
   "cell_type": "code",
   "execution_count": null,
   "metadata": {},
   "outputs": [],
   "source": [
    "CONFIG_FILENAME=\".config.ini\"\n",
    "\n",
    "config = configparser.ConfigParser()\n",
    "config.read(CONFIG_FILENAME)\n",
    "\n",
    "def get_value_by_section_and_key(section, key):\n",
    "        \"\"\"get_value_by_section_and_key\"\"\"\n",
    "        return config.get(section, key)\n",
    "\n",
    "def get_all_details_of_section(section) -> dict:\n",
    "    \"\"\"get_all_details_of_section\"\"\"\n",
    "    return dict(config.items(section))\n",
    "\n",
    "\n",
    "default_cfgs = get_all_details_of_section(\"DEFAULT\")"
   ]
  },
  {
   "cell_type": "code",
   "execution_count": null,
   "metadata": {},
   "outputs": [],
   "source": [
    "\n",
    "openai_api_key = default_cfgs[\"openai_api_key\"]\n",
    "serper_api_key = default_cfgs[\"serper_api_key\"]\n",
    "os.environ[\"OPENAI_MODEL_NAME\"] = 'gpt-4-turbo'\n",
    "os.environ[\"OPENAI_API_KEY\"] = openai_api_key\n",
    "os.environ[\"SERPER_API_KEY\"] = serper_api_key"
   ]
  },
  {
   "cell_type": "markdown",
   "metadata": {},
   "source": [
    "### Create Agents"
   ]
  },
  {
   "cell_type": "code",
   "execution_count": null,
   "metadata": {},
   "outputs": [],
   "source": [
    "sales_rep_agent = Agent(\n",
    "    role=\"Sales Representative\",\n",
    "    goal=\"Identify high-value leads that match \"\n",
    "         \"our ideal customer profile\",\n",
    "    backstory=(\n",
    "        \"As a part of the dynamic sales team at CrewAI, \"\n",
    "        \"your mission is to scour \"\n",
    "        \"the digital landscape for potential leads. \"\n",
    "        \"Armed with cutting-edge tools \"\n",
    "        \"and a strategic mindset, you analyze data, \"\n",
    "        \"trends, and interactions to \"\n",
    "        \"unearth opportunities that others might overlook. \"\n",
    "        \"Your work is crucial in paving the way \"\n",
    "        \"for meaningful engagements and driving the company's growth.\"\n",
    "    ),\n",
    "    allow_delegation=False,\n",
    "    verbose=True\n",
    ")"
   ]
  },
  {
   "cell_type": "code",
   "execution_count": null,
   "metadata": {},
   "outputs": [],
   "source": [
    "lead_sales_rep_agent = Agent(\n",
    "    role=\"Lead Sales Representative\",\n",
    "    goal=\"Nurture leads with personalized, compelling communications\",\n",
    "    backstory=(\n",
    "        \"Within the vibrant ecosystem of CrewAI's sales department, \"\n",
    "        \"you stand out as the bridge between potential clients \"\n",
    "        \"and the solutions they need.\"\n",
    "        \"By creating engaging, personalized messages, \"\n",
    "        \"you not only inform leads about our offerings \"\n",
    "        \"but also make them feel seen and heard.\"\n",
    "        \"Your role is pivotal in converting interest \"\n",
    "        \"into action, guiding leads through the journey \"\n",
    "        \"from curiosity to commitment.\"\n",
    "    ),\n",
    "    allow_delegation=False,\n",
    "    verbose=True\n",
    ")"
   ]
  },
  {
   "cell_type": "markdown",
   "metadata": {},
   "source": [
    "### crewAI Tools"
   ]
  },
  {
   "cell_type": "code",
   "execution_count": null,
   "metadata": {},
   "outputs": [],
   "source": [
    "from crewai_tools import DirectoryReadTool, \\\n",
    "                         FileReadTool, \\\n",
    "                         SerperDevTool"
   ]
  },
  {
   "cell_type": "code",
   "execution_count": null,
   "metadata": {},
   "outputs": [],
   "source": [
    "directory_read_tool = DirectoryReadTool(directory='./instructions')\n",
    "file_read_tool = FileReadTool()\n",
    "search_tool = SerperDevTool()"
   ]
  },
  {
   "cell_type": "markdown",
   "metadata": {},
   "source": [
    "### Custom Tool"
   ]
  },
  {
   "cell_type": "code",
   "execution_count": null,
   "metadata": {},
   "outputs": [],
   "source": [
    "from crewai_tools import BaseTool"
   ]
  },
  {
   "cell_type": "code",
   "execution_count": null,
   "metadata": {},
   "outputs": [],
   "source": [
    "class SentimentAnalysisTool(BaseTool):\n",
    "    name: str =\"Sentiment Analysis Tool\"\n",
    "    description: str = (\"Analyzes the sentiment of text \"\n",
    "         \"to ensure positive and engaging communication.\")\n",
    "    \n",
    "    def _run(self, text: str) -> str:\n",
    "        # Your custom code tool goes here\n",
    "        return \"positive\""
   ]
  },
  {
   "cell_type": "code",
   "execution_count": null,
   "metadata": {},
   "outputs": [],
   "source": [
    "sentiment_analysis_tool = SentimentAnalysisTool()"
   ]
  },
  {
   "cell_type": "markdown",
   "metadata": {},
   "source": [
    "### Creating Tasks\n",
    "\n",
    "- The Lead Profiling Task is using crewAI Tools."
   ]
  },
  {
   "cell_type": "code",
   "execution_count": null,
   "metadata": {},
   "outputs": [],
   "source": [
    "lead_profiling_task = Task(\n",
    "    description=(\n",
    "        \"Conduct an in-depth analysis of {lead_name}, \"\n",
    "        \"a company in the {industry} sector \"\n",
    "        \"that recently showed interest in our solutions. \"\n",
    "        \"Utilize all available data sources \"\n",
    "        \"to compile a detailed profile, \"\n",
    "        \"focusing on key decision-makers, recent business \"\n",
    "        \"developments, and potential needs \"\n",
    "        \"that align with our offerings. \"\n",
    "        \"This task is crucial for tailoring \"\n",
    "        \"our engagement strategy effectively.\\n\"\n",
    "        \"Don't make assumptions and \"\n",
    "        \"only use information you absolutely sure about.\"\n",
    "    ),\n",
    "    expected_output=(\n",
    "        \"A comprehensive report on {lead_name}, \"\n",
    "        \"including company background, \"\n",
    "        \"key personnel, recent milestones, and identified needs. \"\n",
    "        \"Highlight potential areas where \"\n",
    "        \"our solutions can provide value, \"\n",
    "        \"and suggest personalized engagement strategies.\"\n",
    "    ),\n",
    "    tools=[directory_read_tool, file_read_tool, search_tool],\n",
    "    agent=sales_rep_agent,\n",
    ")"
   ]
  },
  {
   "cell_type": "code",
   "execution_count": null,
   "metadata": {},
   "outputs": [],
   "source": [
    "personalized_outreach_task = Task(\n",
    "    description=(\n",
    "        \"Using the insights gathered from \"\n",
    "        \"the lead profiling report on {lead_name}, \"\n",
    "        \"craft a personalized outreach campaign \"\n",
    "        \"aimed at {key_decision_maker}, \"\n",
    "        \"the {position} of {lead_name}. \"\n",
    "        \"The campaign should address their recent {milestone} \"\n",
    "        \"and how our solutions can support their goals. \"\n",
    "        \"Your communication must resonate \"\n",
    "        \"with {lead_name}'s company culture and values, \"\n",
    "        \"demonstrating a deep understanding of \"\n",
    "        \"their business and needs.\\n\"\n",
    "        \"Don't make assumptions and only \"\n",
    "        \"use information you absolutely sure about.\"\n",
    "    ),\n",
    "    expected_output=(\n",
    "        \"A series of personalized email drafts \"\n",
    "        \"tailored to {lead_name}, \"\n",
    "        \"specifically targeting {key_decision_maker}.\"\n",
    "        \"Each draft should include \"\n",
    "        \"a compelling narrative that connects our solutions \"\n",
    "        \"with their recent achievements and future goals. \"\n",
    "        \"Ensure the tone is engaging, professional, \"\n",
    "        \"and aligned with {lead_name}'s corporate identity.\"\n",
    "    ),\n",
    "    tools=[sentiment_analysis_tool, search_tool],\n",
    "    agent=lead_sales_rep_agent,\n",
    ")"
   ]
  },
  {
   "cell_type": "markdown",
   "metadata": {},
   "source": [
    "### Creating the Crew"
   ]
  },
  {
   "cell_type": "code",
   "execution_count": null,
   "metadata": {},
   "outputs": [],
   "source": [
    "crew = Crew(\n",
    "    agents=[sales_rep_agent, \n",
    "            lead_sales_rep_agent],\n",
    "    \n",
    "    tasks=[lead_profiling_task, \n",
    "           personalized_outreach_task],\n",
    "\t\n",
    "    verbose=True,\n",
    "\tmemory=True\n",
    ")"
   ]
  },
  {
   "cell_type": "markdown",
   "metadata": {},
   "source": [
    "### Running the Crew\n",
    "\n",
    "**Note**: LLMs can provide different outputs for they same input, so what you get might be different than what you see in the video."
   ]
  },
  {
   "cell_type": "code",
   "execution_count": null,
   "metadata": {},
   "outputs": [],
   "source": [
    "inputs = {\n",
    "    \"lead_name\": \"DeepLearningAI\",\n",
    "    \"industry\": \"Online Learning Platform\",\n",
    "    \"key_decision_maker\": \"Andrew Ng\",\n",
    "    \"position\": \"CEO\",\n",
    "    \"milestone\": \"product launch\"\n",
    "}\n",
    "\n",
    "result = crew.kickoff(inputs=inputs)"
   ]
  },
  {
   "cell_type": "code",
   "execution_count": null,
   "metadata": {},
   "outputs": [],
   "source": [
    "from IPython.display import Markdown\n",
    "Markdown(str(result))"
   ]
  }
 ],
 "metadata": {
  "kernelspec": {
   "display_name": ".venv",
   "language": "python",
   "name": "python3"
  },
  "language_info": {
   "codemirror_mode": {
    "name": "ipython",
    "version": 3
   },
   "file_extension": ".py",
   "mimetype": "text/x-python",
   "name": "python",
   "nbconvert_exporter": "python",
   "pygments_lexer": "ipython3",
   "version": "3.12.8"
  }
 },
 "nbformat": 4,
 "nbformat_minor": 2
}
