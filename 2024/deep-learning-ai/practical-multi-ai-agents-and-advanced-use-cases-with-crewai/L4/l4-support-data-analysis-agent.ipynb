{
 "cells": [
  {
   "cell_type": "markdown",
   "metadata": {},
   "source": [
    "## L4: Support Data Insight Analysis"
   ]
  },
  {
   "cell_type": "code",
   "execution_count": null,
   "metadata": {
    "vscode": {
     "languageId": "plaintext"
    }
   },
   "outputs": [],
   "source": [
    "# Warning control\n",
    "import warnings\n",
    "warnings.filterwarnings('ignore')\n",
    "\n",
    "# Load environment variables\n",
    "from helper import load_env\n",
    "load_env()\n",
    "\n",
    "import os\n",
    "import yaml\n",
    "from crewai import Agent, Task, Crew"
   ]
  },
  {
   "cell_type": "code",
   "execution_count": null,
   "metadata": {
    "vscode": {
     "languageId": "plaintext"
    }
   },
   "outputs": [],
   "source": [
    "### Loading Tasks and Agents YAML files"
   ]
  },
  {
   "cell_type": "code",
   "execution_count": null,
   "metadata": {
    "vscode": {
     "languageId": "plaintext"
    }
   },
   "outputs": [],
   "source": [
    "# Define file paths for YAML configurations\n",
    "files = {\n",
    "    'agents': 'config/agents.yaml',\n",
    "    'tasks': 'config/tasks.yaml'\n",
    "}\n",
    "\n",
    "# Load configurations from YAML files\n",
    "configs = {}\n",
    "for config_type, file_path in files.items():\n",
    "    with open(file_path, 'r') as file:\n",
    "        configs[config_type] = yaml.safe_load(file)\n",
    "\n",
    "# Assign loaded configurations to specific variables\n",
    "agents_config = configs['agents']\n",
    "tasks_config = configs['tasks']"
   ]
  },
  {
   "cell_type": "markdown",
   "metadata": {},
   "source": [
    "### Using FileReadTool"
   ]
  },
  {
   "cell_type": "markdown",
   "metadata": {},
   "source": [
    "from crewai_tools import FileReadTool\n",
    "csv_tool = FileReadTool(file_path='./support_tickets_data.csv')"
   ]
  },
  {
   "cell_type": "markdown",
   "metadata": {},
   "source": [
    "### Creating Agents, Tasks and Crew"
   ]
  },
  {
   "cell_type": "code",
   "execution_count": null,
   "metadata": {
    "vscode": {
     "languageId": "plaintext"
    }
   },
   "outputs": [],
   "source": [
    "# Creating Agents\n",
    "suggestion_generation_agent = Agent(\n",
    "  config=agents_config['suggestion_generation_agent'],\n",
    "  tools=[csv_tool]\n",
    ")\n",
    "\n",
    "reporting_agent = Agent(\n",
    "  config=agents_config['reporting_agent'],\n",
    "  tools=[csv_tool]\n",
    ")\n",
    "\n",
    "chart_generation_agent = Agent(\n",
    "  config=agents_config['chart_generation_agent'],\n",
    "  allow_code_execution=True\n",
    ")\n",
    "\n",
    "# Creating Tasks\n",
    "suggestion_generation = Task(\n",
    "  config=tasks_config['suggestion_generation'],\n",
    "  agent=suggestion_generation_agent\n",
    ")\n",
    "\n",
    "table_generation = Task(\n",
    "  config=tasks_config['table_generation'],\n",
    "  agent=reporting_agent\n",
    ")\n",
    "\n",
    "chart_generation = Task(\n",
    "  config=tasks_config['chart_generation'],\n",
    "  agent=chart_generation_agent\n",
    ")\n",
    "\n",
    "final_report_assembly = Task(\n",
    "  config=tasks_config['final_report_assembly'],\n",
    "  agent=reporting_agent,\n",
    "  context=[suggestion_generation, table_generation, chart_generation]\n",
    ")\n",
    "\n",
    "\n",
    "# Creating Crew\n",
    "support_report_crew = Crew(\n",
    "  agents=[\n",
    "    suggestion_generation_agent,\n",
    "    reporting_agent,\n",
    "    chart_generation_agent\n",
    "  ],\n",
    "  tasks=[\n",
    "    suggestion_generation,\n",
    "    table_generation,\n",
    "    chart_generation,\n",
    "    final_report_assembly\n",
    "  ],\n",
    "  verbose=True\n",
    ")"
   ]
  },
  {
   "cell_type": "markdown",
   "metadata": {},
   "source": [
    "### Testing our Crew"
   ]
  },
  {
   "cell_type": "code",
   "execution_count": null,
   "metadata": {
    "vscode": {
     "languageId": "plaintext"
    }
   },
   "outputs": [],
   "source": [
    "support_report_crew.test(n_iterations=1, openai_model_name='gpt-4o')"
   ]
  },
  {
   "cell_type": "markdown",
   "metadata": {},
   "source": [
    "### Training your crew and agents"
   ]
  },
  {
   "cell_type": "code",
   "execution_count": null,
   "metadata": {
    "vscode": {
     "languageId": "plaintext"
    }
   },
   "outputs": [],
   "source": [
    "support_report_crew.train(n_iterations=1, filename='training.pkl')"
   ]
  },
  {
   "cell_type": "markdown",
   "metadata": {},
   "source": [
    "### Comparing new test results"
   ]
  },
  {
   "cell_type": "code",
   "execution_count": null,
   "metadata": {
    "vscode": {
     "languageId": "plaintext"
    }
   },
   "outputs": [],
   "source": [
    "support_report_crew.test(n_iterations=1, openai_model_name='gpt-4o')"
   ]
  },
  {
   "cell_type": "code",
   "execution_count": null,
   "metadata": {
    "vscode": {
     "languageId": "plaintext"
    }
   },
   "outputs": [],
   "source": [
    "# Display the Trello screenshot\n",
    "from IPython.display import Image, display\n",
    "\n",
    "# Load and display the image\n",
    "test_image = Image(filename='test_before_training.png', width=368)\n",
    "display(test_image)"
   ]
  },
  {
   "cell_type": "markdown",
   "metadata": {},
   "source": [
    "### Kicking off Crew"
   ]
  },
  {
   "cell_type": "code",
   "execution_count": null,
   "metadata": {
    "vscode": {
     "languageId": "plaintext"
    }
   },
   "outputs": [],
   "source": [
    "result = support_report_crew.kickoff()"
   ]
  },
  {
   "cell_type": "markdown",
   "metadata": {},
   "source": [
    "### Result"
   ]
  },
  {
   "cell_type": "code",
   "execution_count": null,
   "metadata": {
    "vscode": {
     "languageId": "plaintext"
    }
   },
   "outputs": [],
   "source": [
    "from IPython.display import display, Markdown\n",
    "display(Markdown(result.raw))"
   ]
  }
 ],
 "metadata": {
  "language_info": {
   "name": "python"
  }
 },
 "nbformat": 4,
 "nbformat_minor": 2
}
